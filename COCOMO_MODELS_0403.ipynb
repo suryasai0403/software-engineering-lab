{
  "nbformat": 4,
  "nbformat_minor": 0,
  "metadata": {
    "colab": {
      "provenance": [],
      "authorship_tag": "ABX9TyNVIiJ2yi4aEDPa55ziPz3q",
      "include_colab_link": true
    },
    "kernelspec": {
      "name": "python3",
      "display_name": "Python 3"
    },
    "language_info": {
      "name": "python"
    }
  },
  "cells": [
    {
      "cell_type": "markdown",
      "metadata": {
        "id": "view-in-github",
        "colab_type": "text"
      },
      "source": [
        "<a href=\"https://colab.research.google.com/github/suryasai0403/software-engineering-lab/blob/main/COCOMO_MODELS_0403.ipynb\" target=\"_parent\"><img src=\"https://colab.research.google.com/assets/colab-badge.svg\" alt=\"Open In Colab\"/></a>"
      ]
    },
    {
      "cell_type": "markdown",
      "source": [
        " Basic COCOMO Model"
      ],
      "metadata": {
        "id": "0w_v0ZGwn14G"
      }
    },
    {
      "cell_type": "code",
      "execution_count": 1,
      "metadata": {
        "colab": {
          "base_uri": "https://localhost:8080/"
        },
        "id": "fboCrZLGnv-1",
        "outputId": "9dd21eab-f6f9-40e1-94f3-3596b72b91e0"
      },
      "outputs": [
        {
          "output_type": "stream",
          "name": "stdout",
          "text": [
            "Enter size of project in KLOC: 20\n",
            "Enter project type (organic, semi-detached, embedded): organic\n",
            "{'Effort (Person-Months)': 55.76, 'Development Time (Months)': 11.52, 'Required Developers': 4.84}\n"
          ]
        }
      ],
      "source": [
        "def basic_cocomo(kloc, project_type):\n",
        "    cocomo_values = {\n",
        "        \"organic\": (2.4, 1.05, 2.5, 0.38),\n",
        "        \"semi-detached\": (3.0, 1.12, 2.5, 0.35),\n",
        "        \"embedded\": (3.6, 1.20, 2.5, 0.32),\n",
        "    }\n",
        "\n",
        "    if project_type.lower() not in cocomo_values:\n",
        "        return \"Invalid project type! Choose from 'organic', 'semi-detached', or 'embedded'.\"\n",
        "\n",
        "    a, b, c, d = cocomo_values[project_type.lower()]\n",
        "\n",
        "    effort = a * (kloc ** b)  # in person-months\n",
        "    time = c * (effort ** d)  # in months\n",
        "    developers = effort / time  # persons\n",
        "\n",
        "    return {\n",
        "        \"Effort (Person-Months)\": round(effort, 2),\n",
        "        \"Development Time (Months)\": round(time, 2),\n",
        "        \"Required Developers\": round(developers, 2)\n",
        "    }\n",
        "\n",
        "# Example Usage\n",
        "kloc = float(input(\"Enter size of project in KLOC: \"))\n",
        "project_type = input(\"Enter project type (organic, semi-detached, embedded): \")\n",
        "result = basic_cocomo(kloc, project_type)\n",
        "print(result)\n"
      ]
    },
    {
      "cell_type": "markdown",
      "source": [
        "Intermediate COCOMO Model"
      ],
      "metadata": {
        "id": "KnlxyqXMoJ-n"
      }
    },
    {
      "cell_type": "code",
      "source": [
        "def intermediate_cocomo(kloc, project_type, effort_multipliers):\n",
        "    cocomo_values = {\n",
        "        \"organic\": (3.2, 1.05, 2.5, 0.38),\n",
        "        \"semi-detached\": (3.0, 1.12, 2.5, 0.35),\n",
        "        \"embedded\": (2.8, 1.20, 2.5, 0.32),\n",
        "    }\n",
        "\n",
        "    if project_type.lower() not in cocomo_values:\n",
        "        return \"Invalid project type! Choose from 'organic', 'semi-detached', or 'embedded'.\"\n",
        "\n",
        "    a, b, c, d = cocomo_values[project_type.lower()]\n",
        "\n",
        "    em_product = 1\n",
        "    for em in effort_multipliers:\n",
        "        em_product *= em\n",
        "\n",
        "    effort = a * (kloc ** b) * em_product  # Adjusted effort\n",
        "    time = c * (effort ** d)\n",
        "    developers = effort / time\n",
        "\n",
        "    return {\n",
        "        \"Effort (Person-Months)\": round(effort, 2),\n",
        "        \"Development Time (Months)\": round(time, 2),\n",
        "        \"Required Developers\": round(developers, 2)\n",
        "    }\n",
        "\n",
        "# Taking Input from User\n",
        "kloc = float(input(\"Enter size of project in KLOC: \"))\n",
        "project_type = input(\"Enter project type (organic, semi-detached, embedded): \")\n",
        "\n",
        "# Taking 15 Effort Multipliers\n",
        "effort_multipliers = []\n",
        "print(\"Enter 15 effort multipliers (one by one):\")\n",
        "for i in range(15):\n",
        "    effort_multipliers.append(float(input(f\"Multiplier {i+1}: \")))\n",
        "\n",
        "# Calling the function\n",
        "result = intermediate_cocomo(kloc, project_type, effort_multipliers)\n",
        "print(result)\n"
      ],
      "metadata": {
        "colab": {
          "base_uri": "https://localhost:8080/"
        },
        "id": "xTd22BUqoQo3",
        "outputId": "dc798224-3e2e-4794-a637-0a9b50f092bd"
      },
      "execution_count": 2,
      "outputs": [
        {
          "output_type": "stream",
          "name": "stdout",
          "text": [
            "Enter size of project in KLOC: 30\n",
            "Enter project type (organic, semi-detached, embedded): semi-detached\n",
            "Enter 15 effort multipliers (one by one):\n",
            "Multiplier 1: 1.1\n",
            "Multiplier 2: 1.2\n",
            "Multiplier 3: 1.05\n",
            "Multiplier 4: 0.9\n",
            "Multiplier 5: 0.8\n",
            "Multiplier 6: 0.06\n",
            "Multiplier 7: 1.3\n",
            "Multiplier 8: 1.06\n",
            "Multiplier 9: 1.32\n",
            "Multiplier 10: 1.22\n",
            "Multiplier 11: 0.03\n",
            "Multiplier 12: 0.07\n",
            "Multiplier 13: 0.14\n",
            "Multiplier 14: 1.01\n",
            "Multiplier 15: 1.1\n",
            "{'Effort (Person-Months)': 0.01, 'Development Time (Months)': 0.41, 'Required Developers': 0.01}\n"
          ]
        }
      ]
    },
    {
      "cell_type": "markdown",
      "source": [
        "Detailed COCOMO Model"
      ],
      "metadata": {
        "id": "7p44r3W9ox5A"
      }
    },
    {
      "cell_type": "code",
      "source": [
        "def detailed_cocomo(kloc, project_type, phase_effort_multipliers):\n",
        "    cocomo_values = {\n",
        "        \"organic\": (3.2, 1.05, 2.5, 0.38),\n",
        "        \"semi-detached\": (3.0, 1.12, 2.5, 0.35),\n",
        "        \"embedded\": (2.8, 1.20, 2.5, 0.32),\n",
        "    }\n",
        "\n",
        "    if project_type.lower() not in cocomo_values:\n",
        "        return \"Invalid project type! Choose from 'organic', 'semi-detached', or 'embedded'.\"\n",
        "\n",
        "    a, b, c, d = cocomo_values[project_type.lower()]\n",
        "\n",
        "    total_effort = 0\n",
        "    total_time = 0\n",
        "\n",
        "    for phase, em_product in phase_effort_multipliers.items():\n",
        "        effort = a * (kloc ** b) * em_product\n",
        "        time = c * (effort ** d)\n",
        "        total_effort += effort\n",
        "        total_time += time\n",
        "\n",
        "    developers = total_effort / total_time\n",
        "\n",
        "    return {\n",
        "        \"Total Effort (Person-Months)\": round(total_effort, 2),\n",
        "        \"Total Development Time (Months)\": round(total_time, 2),\n",
        "        \"Required Developers\": round(developers, 2)\n",
        "    }\n",
        "\n",
        "# Taking Input from User\n",
        "kloc = float(input(\"Enter size of project in KLOC: \"))\n",
        "project_type = input(\"Enter project type (organic, semi-detached, embedded): \")\n",
        "\n",
        "# Taking Effort Multipliers for Different Phases\n",
        "phase_effort_multipliers = {}\n",
        "print(\"Enter effort multipliers for each phase:\")\n",
        "phase_effort_multipliers[\"Product Design\"] = float(input(\"Product Design: \"))\n",
        "phase_effort_multipliers[\"Detailed Design\"] = float(input(\"Detailed Design: \"))\n",
        "phase_effort_multipliers[\"Implementation & Testing\"] = float(input(\"Implementation & Testing: \"))\n",
        "\n",
        "# Calling the function\n",
        "result = detailed_cocomo(kloc, project_type, phase_effort_multipliers)\n",
        "print(result)\n"
      ],
      "metadata": {
        "colab": {
          "base_uri": "https://localhost:8080/"
        },
        "id": "S4xce0fko2Im",
        "outputId": "d829bd62-fe6c-422c-babc-ca49bfb55120"
      },
      "execution_count": 3,
      "outputs": [
        {
          "output_type": "stream",
          "name": "stdout",
          "text": [
            "Enter size of project in KLOC: 40\n",
            "Enter project type (organic, semi-detached, embedded): embedded\n",
            "Enter effort multipliers for each phase:\n",
            "Product Design: 1.1\n",
            "Detailed Design: 1.2\n",
            "Implementation & Testing: 1.3\n",
            "{'Total Effort (Person-Months)': 843.2, 'Total Development Time (Months)': 45.55, 'Required Developers': 18.51}\n"
          ]
        }
      ]
    }
  ]
}